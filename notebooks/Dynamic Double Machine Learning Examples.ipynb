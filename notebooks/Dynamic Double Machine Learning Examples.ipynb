{
 "cells": [
  {
   "cell_type": "markdown",
   "metadata": {},
   "source": [
    "<table border=\"0\">\n",
    "    <tr>\n",
    "        <td>\n",
    "            <img src=\"https://ictd2016.files.wordpress.com/2016/04/microsoft-research-logo-copy.jpg\" style=\"width 30px;\" />\n",
    "             </td>\n",
    "        <td>\n",
    "            <img src=\"https://www.microsoft.com/en-us/research/wp-content/uploads/2016/12/MSR-ALICE-HeaderGraphic-1920x720_1-800x550.jpg\" style=\"width 100px;\"/></td>\n",
    "        </tr>\n",
    "</table>"
   ]
  },
  {
   "cell_type": "markdown",
   "metadata": {},
   "source": [
    "# Dynamic Double Machine Learning: Use Cases and Examples\n",
    "\n",
    "Dynamic DoubleML is an extension of the Double ML approach for treatments assigned sequentially over time periods. This estimator will account for treatments that can have causal effects on future outcomes. For more details, see [this paper](https://arxiv.org/abs/2002.07285) or the [EconML docummentation](https://www.pywhy.org/EconML/).\n",
    "\n",
    "For example, the Dynamic DoubleML could be useful in estimating the following causal effects:\n",
    "* the effect of investments on revenue at companies that receive investments at regular intervals ([see more](https://arxiv.org/abs/2103.08390))\n",
    "* the effect of prices on demand in stores where prices of goods change over time\n",
    "* the effect of income on health outcomes in people who receive yearly income\n",
    "\n",
    "The preferred data format is balanced panel data. Each panel corresponds to one entity (e.g. company, store or person) and the different rows in a panel correspond to different time points. Example:\n",
    "\n",
    "||Company|Year|Features|Investment|Revenue|\n",
    "|---|---|---|---|---|---|\n",
    "|1|A|2018|...|\\$1,000|\\$10,000|\n",
    "|2|A|2019|...|\\$2,000|\\$12,000|\n",
    "|3|A|2020|...|\\$3,000|\\$15,000|\n",
    "|4|B|2018|...|\\$0|\\$5,000|\n",
    "|5|B|2019|...|\\$100|\\$10,000|\n",
    "|6|B|2020|...|\\$1,200|\\$7,000|\n",
    "|7|C|2018|...|\\$1,000|\\$20,000|\n",
    "|8|C|2019|...|\\$1,500|\\$25,000|\n",
    "|9|C|2020|...|\\$500|\\$15,000|\n",
    "\n",
    "(Note: when passing the data to the DynamicDML estimator, the \"Company\" column above corresponds to the `groups` argument at fit time. The \"Year\" column above should not be passed in as it will be inferred from the \"Company\" column)\n",
    "\n",
    "If group memebers do not appear together, it is assumed that the first instance of a group in the dataset corresponds to the first period of that group, the second instance of the group corresponds to the second period, etc. Example:\n",
    "\n",
    "||Company|Features|Investment|Revenue|\n",
    "|---|---|---|---|---|\n",
    "|1|A|...|\\$1,000|\\$10,000|\n",
    "|2|B|...|\\$0|\\$5,000\n",
    "|3|C|...|\\$1,000|\\$20,000|\n",
    "|4|A|...|\\$2,000|\\$12,000|\n",
    "|5|B|...|\\$100|\\$10,000|\n",
    "|6|C|...|\\$1,500|\\$25,000|\n",
    "|7|A|...|\\$3,000|\\$15,000|\n",
    "|8|B|...|\\$1,200|\\$7,000|\n",
    "|9|C|...|\\$500|\\$15,000|\n",
    "\n",
    "In this dataset, 1<sup>st</sup> row corresponds to the first period of group `A`, 4<sup>th</sup> row corresponds to the second period of group `A`, etc.\n",
    "\n",
    "In this notebook, we show the performance of the DynamicDML on synthetic and observational data. \n",
    "\n",
    "## Notebook Contents\n",
    "\n",
    "1. [Example Usage with Average Treatment Effects](#1.-Example-Usage-with-Average-Treatment-Effects)\n",
    "2. [Example Usage with Heterogeneous Treatment Effects](#2.-Example-Usage-with-Heterogeneous-Treatment-Effects)"
   ]
  },
  {
   "cell_type": "code",
   "execution_count": 1,
   "metadata": {},
   "outputs": [],
   "source": [
    "%load_ext autoreload\n",
    "%autoreload 2"
   ]
  },
  {
   "cell_type": "code",
   "execution_count": 2,
   "metadata": {},
   "outputs": [],
   "source": []
  },
  {
   "cell_type": "code",
   "execution_count": null,
   "metadata": {},
   "outputs": [],
   "source": [
    "# Main imports\n",
    "from econml.panel.dml import DynamicDML\n",
    "from econml.data.dynamic_panel_dgp import DynamicPanelDGP\n",
    "from econml.panel.utilities import add_vlines\n",
    "\n",
    "# Helper imports\n",
    "import numpy as np\n",
    "from sklearn.linear_model import LassoCV, MultiTaskLassoCV\n",
    "import matplotlib.pyplot as plt\n",
    "\n",
    "%matplotlib inline"
   ]
  },
  {
   "cell_type": "markdown",
   "metadata": {},
   "source": [
    "# 1. Example Usage with Average Treatment Effects"
   ]
  },
  {
   "cell_type": "markdown",
   "metadata": {},
   "source": [
    "## 1.1 DGP\n",
    "\n",
    "We consider a data generating process from a markovian treatment model. \n",
    "\n",
    "In the example bellow, $T_t\\rightarrow$ treatment(s) at time $t$, $Y_t\\rightarrow$outcome at time $t$, $X_t\\rightarrow$ features and controls at time $t$ (the coefficients $e, f$ will pick the features and the controls).\n",
    "\\begin{align}\n",
    "    X_t =& (\\pi'X_{t-1} + 1) \\cdot A\\, T_{t-1} + B X_{t-1} + \\epsilon_t\\\\\n",
    "    T_t =& \\gamma\\, T_{t-1} + (1-\\gamma) \\cdot D X_t + \\zeta_t\\\\\n",
    "    Y_t =& (\\sigma' X_{t} + 1) \\cdot e\\, T_{t} + f X_t + \\eta_t\n",
    "\\end{align}\n",
    "\n",
    "with $X_0, T_0 = 0$ and $\\epsilon_t, \\zeta_t, \\eta_t \\sim N(0, \\sigma^2)$. Moreover, $X_t \\in R^{n_x}$, $B[:, 0:s_x] \\neq 0$ and $B[:, s_x:-1] = 0$, $\\gamma\\in [0, 1]$, $D[:, 0:s_x] \\neq 0$, $D[:, s_x:-1]=0$, $f[0:s_x]\\neq 0$, $f[s_x:-1]=0$. We draw a single time series of samples of length $n\\_panels \\cdot n\\_periods$."
   ]
  },
  {
   "cell_type": "code",
   "execution_count": 4,
   "metadata": {},
   "outputs": [],
   "source": [
    "# Define DGP parameters\n",
    "np.random.seed(123)\n",
    "n_panels = 5000 # number of panels\n",
    "n_periods = 3 # number of time periods in each panel\n",
    "n_treatments = 2 # number of treatments in each period\n",
    "n_x = 100 # number of features + controls\n",
    "s_x = 10 # number of controls (endogeneous variables)\n",
    "s_t = 10 # treatment support size"
   ]
  },
  {
   "cell_type": "code",
   "execution_count": 5,
   "metadata": {},
   "outputs": [],
   "source": [
    "# Generate data\n",
    "dgp = DynamicPanelDGP(n_periods, n_treatments, n_x).create_instance(\n",
    "            s_x, random_seed=12345)\n",
    "Y, T, X, W, groups = dgp.observational_data(n_panels, s_t=s_t, random_seed=12345)\n",
    "true_effect = dgp.true_effect"
   ]
  },
  {
   "cell_type": "markdown",
   "metadata": {},
   "source": [
    "## 1.2 Train Estimator"
   ]
  },
  {
   "cell_type": "code",
   "execution_count": 6,
   "metadata": {},
   "outputs": [],
   "source": [
    "est = DynamicDML(\n",
    "    model_y=LassoCV(cv=3, max_iter=1000),\n",
    "    model_t=MultiTaskLassoCV(cv=3, max_iter=1000),\n",
    "    cv=3)"
   ]
  },
  {
   "cell_type": "code",
   "execution_count": 7,
   "metadata": {
    "scrolled": true
   },
   "outputs": [
    {
     "data": {
      "text/plain": [
       "<econml.panel.dml._dml.DynamicDML at 0x19d2abd6a00>"
      ]
     },
     "execution_count": 7,
     "metadata": {},
     "output_type": "execute_result"
    }
   ],
   "source": [
    "est.fit(Y, T, X=None, W=W, groups=groups)"
   ]
  },
  {
   "cell_type": "code",
   "execution_count": 8,
   "metadata": {},
   "outputs": [
    {
     "name": "stdout",
     "output_type": "stream",
     "text": [
      "Average effect of default policy: 1.40\n"
     ]
    },
    {
     "name": "stderr",
     "output_type": "stream",
     "text": [
      "A scalar was specified but there are multiple treatments; the same value will be used for each treatment.  Consider specifyingall treatments, or using the const_marginal_effect method.\n"
     ]
    }
   ],
   "source": [
    "# Average treatment effect of all periods on last period for unit treatments\n",
    "print(f\"Average effect of default policy: {est.ate():0.2f}\")"
   ]
  },
  {
   "cell_type": "code",
   "execution_count": 9,
   "metadata": {},
   "outputs": [
    {
     "name": "stdout",
     "output_type": "stream",
     "text": [
      "Effect of target policy over baseline policy: 1.40\n"
     ]
    }
   ],
   "source": [
    "# Effect of target policy over baseline policy\n",
    "# Must specify a treatment for each period\n",
    "baseline_policy = np.zeros((1, n_periods * n_treatments))\n",
    "target_policy = np.ones((1, n_periods * n_treatments))\n",
    "eff = est.effect(T0=baseline_policy, T1=target_policy)\n",
    "print(f\"Effect of target policy over baseline policy: {eff[0]:0.2f}\")"
   ]
  },
  {
   "cell_type": "code",
   "execution_count": 10,
   "metadata": {},
   "outputs": [
    {
     "name": "stdout",
     "output_type": "stream",
     "text": [
      "Marginal effect of a treatments in period 1 on period 3 outcome: [0.04000235 0.0701606 ]\n",
      "Marginal effect of a treatments in period 2 on period 3 outcome: [0.31611764 0.23714736]\n",
      "Marginal effect of a treatments in period 3 on period 3 outcome: [0.13108411 0.60656886]\n"
     ]
    }
   ],
   "source": [
    "# Period treatment effects + interpretation\n",
    "for i, theta in enumerate(est.intercept_.reshape(-1, n_treatments)):\n",
    "    print(f\"Marginal effect of a treatments in period {i+1} on period {n_periods} outcome: {theta}\")"
   ]
  },
  {
   "cell_type": "code",
   "execution_count": 11,
   "metadata": {},
   "outputs": [
    {
     "name": "stdout",
     "output_type": "stream",
     "text": [
      "Coefficient Results:  X is None, please call intercept_inference to learn the constant!\n"
     ]
    },
    {
     "data": {
      "text/html": [
       "<table class=\"simpletable\">\n",
       "<caption>CATE Intercept Results</caption>\n",
       "<tr>\n",
       "             <td></td>             <th>point_estimate</th> <th>stderr</th>  <th>zstat</th>  <th>pvalue</th> <th>ci_lower</th> <th>ci_upper</th>\n",
       "</tr>\n",
       "<tr>\n",
       "  <th>cate_intercept|(T0)$_0$</th>      <td>0.04</td>       <td>0.041</td>  <td>0.977</td>   <td>0.328</td>  <td>-0.027</td>    <td>0.107</td> \n",
       "</tr>\n",
       "<tr>\n",
       "  <th>cate_intercept|(T1)$_0$</th>      <td>0.07</td>       <td>0.04</td>   <td>1.74</td>    <td>0.082</td>   <td>0.004</td>    <td>0.136</td> \n",
       "</tr>\n",
       "<tr>\n",
       "  <th>cate_intercept|(T0)$_1$</th>      <td>0.316</td>      <td>0.036</td>  <td>8.848</td>    <td>0.0</td>    <td>0.257</td>    <td>0.375</td> \n",
       "</tr>\n",
       "<tr>\n",
       "  <th>cate_intercept|(T1)$_1$</th>      <td>0.237</td>      <td>0.036</td>  <td>6.608</td>    <td>0.0</td>    <td>0.178</td>    <td>0.296</td> \n",
       "</tr>\n",
       "<tr>\n",
       "  <th>cate_intercept|(T0)$_2$</th>      <td>0.131</td>      <td>0.003</td> <td>45.665</td>    <td>0.0</td>    <td>0.126</td>    <td>0.136</td> \n",
       "</tr>\n",
       "<tr>\n",
       "  <th>cate_intercept|(T1)$_2$</th>      <td>0.607</td>      <td>0.003</td> <td>210.244</td>   <td>0.0</td>    <td>0.602</td>    <td>0.611</td> \n",
       "</tr>\n",
       "</table><br/><br/><sub>A linear parametric conditional average treatment effect (CATE) model was fitted:<br/>$Y = \\Theta(X)\\cdot T + g(X, W) + \\epsilon$<br/>where for every outcome $i$ and treatment $j$ the CATE $\\Theta_{ij}(X)$ has the form:<br/>$\\Theta_{ij}(X) = \\phi(X)' coef_{ij} + cate\\_intercept_{ij}$<br/>where $\\phi(X)$ is the output of the `featurizer` or $X$ if `featurizer`=None. Coefficient Results table portrays the $coef_{ij}$ parameter vector for each outcome $i$ and treatment $j$. Intercept Results table portrays the $cate\\_intercept_{ij}$ parameter.</sub>"
      ],
      "text/plain": [
       "<class 'econml.utilities.Summary'>\n",
       "\"\"\"\n",
       "                            CATE Intercept Results                            \n",
       "==============================================================================\n",
       "                        point_estimate stderr  zstat  pvalue ci_lower ci_upper\n",
       "------------------------------------------------------------------------------\n",
       "cate_intercept|(T0)$_0$           0.04  0.041   0.977  0.328   -0.027    0.107\n",
       "cate_intercept|(T1)$_0$           0.07   0.04    1.74  0.082    0.004    0.136\n",
       "cate_intercept|(T0)$_1$          0.316  0.036   8.848    0.0    0.257    0.375\n",
       "cate_intercept|(T1)$_1$          0.237  0.036   6.608    0.0    0.178    0.296\n",
       "cate_intercept|(T0)$_2$          0.131  0.003  45.665    0.0    0.126    0.136\n",
       "cate_intercept|(T1)$_2$          0.607  0.003 210.244    0.0    0.602    0.611\n",
       "------------------------------------------------------------------------------\n",
       "\n",
       "<sub>A linear parametric conditional average treatment effect (CATE) model was fitted:\n",
       "$Y = \\Theta(X)\\cdot T + g(X, W) + \\epsilon$\n",
       "where for every outcome $i$ and treatment $j$ the CATE $\\Theta_{ij}(X)$ has the form:\n",
       "$\\Theta_{ij}(X) = \\phi(X)' coef_{ij} + cate\\_intercept_{ij}$\n",
       "where $\\phi(X)$ is the output of the `featurizer` or $X$ if `featurizer`=None. Coefficient Results table portrays the $coef_{ij}$ parameter vector for each outcome $i$ and treatment $j$. Intercept Results table portrays the $cate\\_intercept_{ij}$ parameter.</sub>\n",
       "\"\"\""
      ]
     },
     "execution_count": 11,
     "metadata": {},
     "output_type": "execute_result"
    }
   ],
   "source": [
    "# Period treatment effects with confidence intervals\n",
    "est.summary()"
   ]
  },
  {
   "cell_type": "code",
   "execution_count": 12,
   "metadata": {},
   "outputs": [],
   "source": [
    "conf_ints = est.intercept__interval(alpha=0.05)"
   ]
  },
  {
   "cell_type": "markdown",
   "metadata": {},
   "source": [
    "## 1.3 Performance Visualization"
   ]
  },
  {
   "cell_type": "code",
   "execution_count": 13,
   "metadata": {},
   "outputs": [
    {
     "data": {
      "image/png": "[encoded data removed]",
      "text/plain": [
       "<Figure size 1080x360 with 1 Axes>"
      ]
     },
     "metadata": {
      "needs_background": "light"
     },
     "output_type": "display_data"
    }
   ],
   "source": [
    "# Some plotting boilerplate code\n",
    "plt.figure(figsize=(15, 5))\n",
    "plt.errorbar(np.arange(n_periods*n_treatments)-.04, est.intercept_, yerr=(conf_ints[1] - est.intercept_,\n",
    "                                                    est.intercept_ - conf_ints[0]), fmt='o', label='DynamicDML')\n",
    "plt.errorbar(np.arange(n_periods*n_treatments), true_effect.flatten(), fmt='o', alpha=.6, label='Ground truth')\n",
    "for t in np.arange(1, n_periods):\n",
    "    plt.axvline(x=t * n_treatments - .5, linestyle='--', alpha=.4)\n",
    "plt.xticks([t * n_treatments - .5 + n_treatments/2 for t in range(n_periods)],\n",
    "           [\"$\\\\theta_{}$\".format(t) for t in range(n_periods)])\n",
    "plt.gca().set_xlim([-.5, n_periods*n_treatments - .5])\n",
    "plt.ylabel(\"Effect\")\n",
    "plt.legend()\n",
    "plt.show()"
   ]
  },
  {
   "cell_type": "markdown",
   "metadata": {},
   "source": [
    "# 2. Example Usage with Heterogeneous Treatment Effects on Time-Invariant Unit Characteristics\n",
    "\n",
    "We can also estimate treatment effect heterogeneity with respect to the value of some subset of features $X$ in the initial period. Heterogeneity is currently only supported with respect to such initial state features. This for instance can support heterogeneity with respect to time-invariant unit characteristics. In that case you can simply pass as $X$ a repetition of some unit features that stay constant in all periods. You can also pass time-varying features, and their time varying component will be used as a time-varying control. However, heterogeneity will only be estimated with respect to the initial state."
   ]
  },
  {
   "cell_type": "markdown",
   "metadata": {},
   "source": [
    "## 2.1 DGP"
   ]
  },
  {
   "cell_type": "code",
   "execution_count": 14,
   "metadata": {},
   "outputs": [],
   "source": [
    "# Define additional DGP parameters\n",
    "het_strength = .5\n",
    "het_inds = np.arange(n_x - n_treatments, n_x)"
   ]
  },
  {
   "cell_type": "code",
   "execution_count": 15,
   "metadata": {},
   "outputs": [],
   "source": [
    "# Generate data\n",
    "dgp = DynamicPanelDGP(n_periods, n_treatments, n_x).create_instance(\n",
    "            s_x, hetero_strength=het_strength, hetero_inds=het_inds, random_seed=12)\n",
    "Y, T, X, W, groups = dgp.observational_data(n_panels, s_t=s_t, random_seed=1)\n",
    "ate_effect = dgp.true_effect\n",
    "het_effect = dgp.true_hetero_effect[:, het_inds + 1]"
   ]
  },
  {
   "cell_type": "markdown",
   "metadata": {},
   "source": [
    "## 2.2 Train Estimator"
   ]
  },
  {
   "cell_type": "code",
   "execution_count": 16,
   "metadata": {},
   "outputs": [],
   "source": [
    "est = DynamicDML(\n",
    "    model_y=LassoCV(cv=3),\n",
    "    model_t=MultiTaskLassoCV(cv=3),\n",
    "    cv=3)"
   ]
  },
  {
   "cell_type": "code",
   "execution_count": 17,
   "metadata": {
    "scrolled": true
   },
   "outputs": [
    {
     "data": {
      "text/plain": [
       "<econml.panel.dml._dml.DynamicDML at 0x19d2ae7e5e0>"
      ]
     },
     "execution_count": 17,
     "metadata": {},
     "output_type": "execute_result"
    }
   ],
   "source": [
    "est.fit(Y, T, X=X, W=W, groups=groups, inference=\"auto\")"
   ]
  },
  {
   "cell_type": "code",
   "execution_count": 18,
   "metadata": {},
   "outputs": [
    {
     "data": {
      "text/html": [
       "<table class=\"simpletable\">\n",
       "<caption>Coefficient Results</caption>\n",
       "<tr>\n",
       "       <td></td>       <th>point_estimate</th> <th>stderr</th>  <th>zstat</th>  <th>pvalue</th> <th>ci_lower</th> <th>ci_upper</th>\n",
       "</tr>\n",
       "<tr>\n",
       "  <th>X0|(T0)$_0$</th>      <td>0.009</td>      <td>0.045</td>  <td>0.203</td>   <td>0.839</td>  <td>-0.065</td>    <td>0.083</td> \n",
       "</tr>\n",
       "<tr>\n",
       "  <th>X0|(T1)$_0$</th>      <td>0.017</td>      <td>0.042</td>  <td>0.416</td>   <td>0.677</td>  <td>-0.051</td>    <td>0.086</td> \n",
       "</tr>\n",
       "<tr>\n",
       "  <th>X0|(T0)$_1$</th>     <td>-0.001</td>      <td>0.041</td> <td>-0.035</td>   <td>0.972</td>  <td>-0.069</td>    <td>0.067</td> \n",
       "</tr>\n",
       "<tr>\n",
       "  <th>X0|(T1)$_1$</th>     <td>-0.031</td>      <td>0.041</td>  <td>-0.76</td>   <td>0.447</td>  <td>-0.099</td>    <td>0.036</td> \n",
       "</tr>\n",
       "<tr>\n",
       "  <th>X0|(T0)$_2$</th>     <td>-0.306</td>      <td>0.008</td> <td>-36.667</td>   <td>0.0</td>    <td>-0.32</td>   <td>-0.292</td> \n",
       "</tr>\n",
       "<tr>\n",
       "  <th>X0|(T1)$_2$</th>      <td>0.158</td>      <td>0.008</td> <td>19.656</td>    <td>0.0</td>    <td>0.145</td>    <td>0.171</td> \n",
       "</tr>\n",
       "<tr>\n",
       "  <th>X1|(T0)$_0$</th>      <td>0.017</td>      <td>0.044</td>  <td>0.378</td>   <td>0.706</td>  <td>-0.056</td>    <td>0.09</td>  \n",
       "</tr>\n",
       "<tr>\n",
       "  <th>X1|(T1)$_0$</th>     <td>-0.007</td>      <td>0.045</td> <td>-0.164</td>   <td>0.87</td>   <td>-0.082</td>    <td>0.067</td> \n",
       "</tr>\n",
       "<tr>\n",
       "  <th>X1|(T0)$_1$</th>     <td>-0.034</td>      <td>0.042</td> <td>-0.821</td>   <td>0.412</td>  <td>-0.103</td>    <td>0.034</td> \n",
       "</tr>\n",
       "<tr>\n",
       "  <th>X1|(T1)$_1$</th>     <td>-0.025</td>      <td>0.042</td>  <td>-0.6</td>    <td>0.549</td>  <td>-0.095</td>    <td>0.044</td> \n",
       "</tr>\n",
       "<tr>\n",
       "  <th>X1|(T0)$_2$</th>     <td>-0.302</td>      <td>0.008</td> <td>-35.72</td>    <td>0.0</td>   <td>-0.316</td>   <td>-0.288</td> \n",
       "</tr>\n",
       "<tr>\n",
       "  <th>X1|(T1)$_2$</th>      <td>0.156</td>      <td>0.008</td> <td>18.801</td>    <td>0.0</td>    <td>0.142</td>    <td>0.169</td> \n",
       "</tr>\n",
       "</table>\n",
       "<table class=\"simpletable\">\n",
       "<caption>CATE Intercept Results</caption>\n",
       "<tr>\n",
       "             <td></td>             <th>point_estimate</th> <th>stderr</th>   <th>zstat</th>  <th>pvalue</th> <th>ci_lower</th> <th>ci_upper</th>\n",
       "</tr>\n",
       "<tr>\n",
       "  <th>cate_intercept|(T0)$_0$</th>      <td>0.024</td>      <td>0.036</td>   <td>0.653</td>   <td>0.513</td>  <td>-0.036</td>    <td>0.084</td> \n",
       "</tr>\n",
       "<tr>\n",
       "  <th>cate_intercept|(T1)$_0$</th>     <td>-0.033</td>      <td>0.036</td>  <td>-0.929</td>   <td>0.353</td>  <td>-0.092</td>    <td>0.025</td> \n",
       "</tr>\n",
       "<tr>\n",
       "  <th>cate_intercept|(T0)$_1$</th>     <td>-0.105</td>      <td>0.034</td>  <td>-3.067</td>   <td>0.002</td>  <td>-0.162</td>   <td>-0.049</td> \n",
       "</tr>\n",
       "<tr>\n",
       "  <th>cate_intercept|(T1)$_1$</th>      <td>0.037</td>      <td>0.034</td>   <td>1.079</td>   <td>0.281</td>  <td>-0.019</td>    <td>0.093</td> \n",
       "</tr>\n",
       "<tr>\n",
       "  <th>cate_intercept|(T0)$_2$</th>     <td>-0.743</td>      <td>0.005</td> <td>-140.503</td>   <td>0.0</td>   <td>-0.752</td>   <td>-0.734</td> \n",
       "</tr>\n",
       "<tr>\n",
       "  <th>cate_intercept|(T1)$_2$</th>      <td>0.48</td>       <td>0.005</td>  <td>91.061</td>    <td>0.0</td>    <td>0.472</td>    <td>0.489</td> \n",
       "</tr>\n",
       "</table><br/><br/><sub>A linear parametric conditional average treatment effect (CATE) model was fitted:<br/>$Y = \\Theta(X)\\cdot T + g(X, W) + \\epsilon$<br/>where for every outcome $i$ and treatment $j$ the CATE $\\Theta_{ij}(X)$ has the form:<br/>$\\Theta_{ij}(X) = \\phi(X)' coef_{ij} + cate\\_intercept_{ij}$<br/>where $\\phi(X)$ is the output of the `featurizer` or $X$ if `featurizer`=None. Coefficient Results table portrays the $coef_{ij}$ parameter vector for each outcome $i$ and treatment $j$. Intercept Results table portrays the $cate\\_intercept_{ij}$ parameter.</sub>"
      ],
      "text/plain": [
       "<class 'econml.utilities.Summary'>\n",
       "\"\"\"\n",
       "                       Coefficient Results                        \n",
       "==================================================================\n",
       "            point_estimate stderr  zstat  pvalue ci_lower ci_upper\n",
       "------------------------------------------------------------------\n",
       "X0|(T0)$_0$          0.009  0.045   0.203  0.839   -0.065    0.083\n",
       "X0|(T1)$_0$          0.017  0.042   0.416  0.677   -0.051    0.086\n",
       "X0|(T0)$_1$         -0.001  0.041  -0.035  0.972   -0.069    0.067\n",
       "X0|(T1)$_1$         -0.031  0.041   -0.76  0.447   -0.099    0.036\n",
       "X0|(T0)$_2$         -0.306  0.008 -36.667    0.0    -0.32   -0.292\n",
       "X0|(T1)$_2$          0.158  0.008  19.656    0.0    0.145    0.171\n",
       "X1|(T0)$_0$          0.017  0.044   0.378  0.706   -0.056     0.09\n",
       "X1|(T1)$_0$         -0.007  0.045  -0.164   0.87   -0.082    0.067\n",
       "X1|(T0)$_1$         -0.034  0.042  -0.821  0.412   -0.103    0.034\n",
       "X1|(T1)$_1$         -0.025  0.042    -0.6  0.549   -0.095    0.044\n",
       "X1|(T0)$_2$         -0.302  0.008  -35.72    0.0   -0.316   -0.288\n",
       "X1|(T1)$_2$          0.156  0.008  18.801    0.0    0.142    0.169\n",
       "                             CATE Intercept Results                            \n",
       "===============================================================================\n",
       "                        point_estimate stderr  zstat   pvalue ci_lower ci_upper\n",
       "-------------------------------------------------------------------------------\n",
       "cate_intercept|(T0)$_0$          0.024  0.036    0.653  0.513   -0.036    0.084\n",
       "cate_intercept|(T1)$_0$         -0.033  0.036   -0.929  0.353   -0.092    0.025\n",
       "cate_intercept|(T0)$_1$         -0.105  0.034   -3.067  0.002   -0.162   -0.049\n",
       "cate_intercept|(T1)$_1$          0.037  0.034    1.079  0.281   -0.019    0.093\n",
       "cate_intercept|(T0)$_2$         -0.743  0.005 -140.503    0.0   -0.752   -0.734\n",
       "cate_intercept|(T1)$_2$           0.48  0.005   91.061    0.0    0.472    0.489\n",
       "-------------------------------------------------------------------------------\n",
       "\n",
       "<sub>A linear parametric conditional average treatment effect (CATE) model was fitted:\n",
       "$Y = \\Theta(X)\\cdot T + g(X, W) + \\epsilon$\n",
       "where for every outcome $i$ and treatment $j$ the CATE $\\Theta_{ij}(X)$ has the form:\n",
       "$\\Theta_{ij}(X) = \\phi(X)' coef_{ij} + cate\\_intercept_{ij}$\n",
       "where $\\phi(X)$ is the output of the `featurizer` or $X$ if `featurizer`=None. Coefficient Results table portrays the $coef_{ij}$ parameter vector for each outcome $i$ and treatment $j$. Intercept Results table portrays the $cate\\_intercept_{ij}$ parameter.</sub>\n",
       "\"\"\""
      ]
     },
     "execution_count": 18,
     "metadata": {},
     "output_type": "execute_result"
    }
   ],
   "source": [
    "est.summary()"
   ]
  },
  {
   "cell_type": "code",
   "execution_count": 19,
   "metadata": {},
   "outputs": [
    {
     "name": "stdout",
     "output_type": "stream",
     "text": [
      "Average effect of default policy:-0.42\n"
     ]
    },
    {
     "name": "stderr",
     "output_type": "stream",
     "text": [
      "A scalar was specified but there are multiple treatments; the same value will be used for each treatment.  Consider specifyingall treatments, or using the const_marginal_effect method.\n",
      "A scalar was specified but there are multiple treatments; the same value will be used for each treatment.  Consider specifyingall treatments, or using the const_marginal_effect method.\n"
     ]
    }
   ],
   "source": [
    "# Average treatment effect for test points\n",
    "X_test = X[np.arange(0, 25, 3)]\n",
    "print(f\"Average effect of default policy:{est.ate(X=X_test):0.2f}\")"
   ]
  },
  {
   "cell_type": "code",
   "execution_count": 20,
   "metadata": {},
   "outputs": [
    {
     "name": "stdout",
     "output_type": "stream",
     "text": [
      "Effect of target policy over baseline policy for test set:\n",
      " [-0.37368525 -0.30896804 -0.43030363 -0.52252401 -0.42849622 -0.48790877\n",
      " -0.34417987 -0.51804937 -0.36806744]\n"
     ]
    }
   ],
   "source": [
    "# Effect of target policy over baseline policy\n",
    "# Must specify a treatment for each period\n",
    "baseline_policy = np.zeros((1, n_periods * n_treatments))\n",
    "target_policy = np.ones((1, n_periods * n_treatments))\n",
    "eff = est.effect(X=X_test, T0=baseline_policy, T1=target_policy)\n",
    "print(\"Effect of target policy over baseline policy for test set:\\n\", eff)"
   ]
  },
  {
   "cell_type": "code",
   "execution_count": 21,
   "metadata": {},
   "outputs": [
    {
     "data": {
      "text/plain": [
       "(array([ 0.02374269, -0.03302781, -0.10526464,  0.03675719, -0.74294675,\n",
       "         0.48025068]),\n",
       " array([[ 0.00914226,  0.01675409],\n",
       "        [ 0.01732804, -0.00741467],\n",
       "        [-0.00143705, -0.03431712],\n",
       "        [-0.03136295, -0.02536834],\n",
       "        [-0.30581311, -0.30189654],\n",
       "        [ 0.15773252,  0.15564665]]))"
      ]
     },
     "execution_count": 21,
     "metadata": {},
     "output_type": "execute_result"
    }
   ],
   "source": [
    "# Coefficients: intercept is of shape n_treatments*n_periods\n",
    "# coef_ is of shape (n_treatments*n_periods, n_hetero_inds).\n",
    "# first n_treatment rows are from first period, next n_treatment\n",
    "# from second period, etc.\n",
    "est.intercept_, est.coef_"
   ]
  },
  {
   "cell_type": "code",
   "execution_count": 22,
   "metadata": {},
   "outputs": [],
   "source": [
    "# Confidence intervals\n",
    "conf_ints_intercept = est.intercept__interval(alpha=0.05)\n",
    "conf_ints_coef = est.coef__interval(alpha=0.05)"
   ]
  },
  {
   "cell_type": "markdown",
   "metadata": {},
   "source": [
    "## 2.3 Performance Visualization"
   ]
  },
  {
   "cell_type": "code",
   "execution_count": 23,
   "metadata": {},
   "outputs": [],
   "source": [
    "# parse true parameters in array of shape (n_treatments*n_periods, 1 + n_hetero_inds)\n",
    "# first column is the intercept\n",
    "true_effect_inds = []\n",
    "for t in range(n_treatments):\n",
    "    true_effect_inds += [t * (1 + n_x)] + (list(t * (1 + n_x) + 1 + het_inds) if len(het_inds)>0 else [])\n",
    "true_effect_params = dgp.true_hetero_effect[:, true_effect_inds]\n",
    "true_effect_params = true_effect_params.reshape((n_treatments*n_periods, 1 + het_inds.shape[0]))"
   ]
  },
  {
   "cell_type": "code",
   "execution_count": 24,
   "metadata": {},
   "outputs": [],
   "source": [
    "# concatenating intercept and coef_\n",
    "param_hat = np.hstack([est.intercept_.reshape(-1, 1), est.coef_])\n",
    "lower = np.hstack([conf_ints_intercept[0].reshape(-1, 1), conf_ints_coef[0]])\n",
    "upper = np.hstack([conf_ints_intercept[1].reshape(-1, 1), conf_ints_coef[1]])"
   ]
  },
  {
   "cell_type": "code",
   "execution_count": 25,
   "metadata": {},
   "outputs": [
    {
     "data": {
      "image/png": "[encoded data removed]",
      "text/plain": [
       "<Figure size 1080x360 with 1 Axes>"
      ]
     },
     "metadata": {
      "needs_background": "light"
     },
     "output_type": "display_data"
    }
   ],
   "source": [
    "plt.figure(figsize=(15, 5))\n",
    "plt.errorbar(np.arange(n_periods * (len(het_inds) + 1) * n_treatments),\n",
    "             true_effect_params.flatten(), fmt='*', label='Ground Truth')\n",
    "plt.errorbar(np.arange(n_periods * (len(het_inds) + 1) * n_treatments),\n",
    "             param_hat.flatten(), yerr=((upper - param_hat).flatten(),\n",
    "                                        (param_hat - lower).flatten()), fmt='o', label='DynamicDML')\n",
    "add_vlines(n_periods, n_treatments, het_inds)\n",
    "plt.legend()\n",
    "plt.show()"
   ]
  }
 ],
 "metadata": {
  "kernelspec": {
   "display_name": "Python 3",
   "language": "python",
   "name": "python3"
  },
  "language_info": {
   "codemirror_mode": {
    "name": "ipython",
    "version": 3
   },
   "file_extension": ".py",
   "mimetype": "text/x-python",
   "name": "python",
   "nbconvert_exporter": "python",
   "pygments_lexer": "ipython3",
   "version": "3.7.4"
  }
 },
 "nbformat": 4,
 "nbformat_minor": 4
}
